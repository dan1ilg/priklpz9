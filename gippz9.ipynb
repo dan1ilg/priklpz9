{
 "cells": [
  {
   "cell_type": "markdown",
   "id": "9bab7ca9-c182-4c43-bac4-d3b5656edcad",
   "metadata": {},
   "source": [
    "# Библиотеки"
   ]
  },
  {
   "cell_type": "code",
   "execution_count": 15,
   "id": "a61a903a-8c0b-4e64-9f7c-5e71cac71aae",
   "metadata": {},
   "outputs": [],
   "source": [
    "\n",
    "from fuzzywuzzy import fuzz\n",
    "from fuzzywuzzy import process"
   ]
  },
  {
   "cell_type": "markdown",
   "id": "c7193e56-12cf-4cf1-9f43-f21ac6e21b26",
   "metadata": {},
   "source": [
    "# Реализация"
   ]
  },
  {
   "cell_type": "code",
   "execution_count": 16,
   "id": "2e64cfcc-1594-443c-993c-0b147d532bac",
   "metadata": {},
   "outputs": [],
   "source": [
    "def levenstein(str_1, str_2):\n",
    "    n, m = len(str_1), len(str_2)\n",
    "    if n > m:\n",
    "        str_1, str_2 = str_2, str_1\n",
    "        n, m = m, n\n",
    "\n",
    "    current_row = range(n + 1)\n",
    "    for i in range(1, m + 1):\n",
    "        previous_row, current_row = current_row, [i] + [0] * n\n",
    "        for j in range(1, n + 1):\n",
    "            add, delete, change = previous_row[j] + 1, current_row[j - 1] + 1, previous_row[j - 1]\n",
    "            if str_1[j - 1] != str_2[i - 1]:\n",
    "                change += 1\n",
    "            current_row[j] = min(add, delete, change)\n",
    "\n",
    "    return current_row[n]"
   ]
  },
  {
   "cell_type": "code",
   "execution_count": 18,
   "id": "0d7a057e-1db1-4eb1-8bcb-564930611cc3",
   "metadata": {},
   "outputs": [
    {
     "name": "stdout",
     "output_type": "stream",
     "text": [
      "5\n"
     ]
    }
   ],
   "source": [
    "print(levenstein('Подводный камень', 'Подводный морж'))"
   ]
  },
  {
   "cell_type": "markdown",
   "id": "9d648a89-ee66-42fb-a2df-1dd1aeae276e",
   "metadata": {},
   "source": [
    "# Работаем с Fuzzywuzzy"
   ]
  },
  {
   "cell_type": "markdown",
   "id": "c2b5f927-c1bf-4685-9848-6a7b7570918c",
   "metadata": {},
   "source": [
    "# 1.Самое обычное сравнение"
   ]
  },
  {
   "cell_type": "code",
   "execution_count": 19,
   "id": "ed9aae5d-7c30-4e94-9714-8521f0cd2a40",
   "metadata": {},
   "outputs": [
    {
     "name": "stdout",
     "output_type": "stream",
     "text": [
      "100\n"
     ]
    }
   ],
   "source": [
    "a = fuzz.ratio('Привет мир', 'Привет мир')\n",
    "print(a)"
   ]
  },
  {
   "cell_type": "code",
   "execution_count": 20,
   "id": "7efd7f11-9b7e-4e0f-ba7f-d7914e4c31bb",
   "metadata": {},
   "outputs": [
    {
     "name": "stdout",
     "output_type": "stream",
     "text": [
      "84\n"
     ]
    }
   ],
   "source": [
    "a = fuzz.ratio('Привет мир', 'Привт кир')\n",
    "print(a)"
   ]
  },
  {
   "cell_type": "code",
   "execution_count": 30,
   "id": "b69936b8-c5e9-4d33-9647-24f8a5592972",
   "metadata": {},
   "outputs": [
    {
     "name": "stdout",
     "output_type": "stream",
     "text": [
      "0\n"
     ]
    }
   ],
   "source": [
    "a = levenstein ('Привет мир', 'Привет мир')\n",
    "print(a)"
   ]
  },
  {
   "cell_type": "code",
   "execution_count": 31,
   "id": "0edf5ea0-2d7b-4900-84f2-3a5196503045",
   "metadata": {},
   "outputs": [
    {
     "name": "stdout",
     "output_type": "stream",
     "text": [
      "2\n"
     ]
    }
   ],
   "source": [
    "a = levenstein ('Привет мир', 'Привет Рим')\n",
    "print(a)"
   ]
  },
  {
   "cell_type": "markdown",
   "id": "73183b3d-5aa4-4540-bd4a-168b5e92d8f1",
   "metadata": {},
   "source": [
    "Библиотека fuzzywuzzy выводит процент сходства, а функция levenstein выводит кол-во различающихся знаков."
   ]
  },
  {
   "cell_type": "markdown",
   "id": "0399f6b5-026b-4f3d-aed0-09bb65cc5044",
   "metadata": {},
   "source": [
    "# 2. Частичное сравнение"
   ]
  },
  {
   "cell_type": "code",
   "execution_count": 24,
   "id": "13d11eec-d4a9-43b1-9a8d-312cf5727b07",
   "metadata": {},
   "outputs": [
    {
     "name": "stdout",
     "output_type": "stream",
     "text": [
      "100\n"
     ]
    }
   ],
   "source": [
    "a = fuzz.partial_ratio('Привет мир', 'Люблю колбасу, Привет мир')\n",
    "print(a)"
   ]
  },
  {
   "cell_type": "code",
   "execution_count": 25,
   "id": "168cadf0-cef8-4e9a-a27d-0f3835f24edb",
   "metadata": {},
   "outputs": [
    {
     "name": "stdout",
     "output_type": "stream",
     "text": [
      "90\n"
     ]
    }
   ],
   "source": [
    "a = fuzz.partial_ratio('Привет мир', 'Люблю колбасу, привет мир')\n",
    "print(a)"
   ]
  },
  {
   "cell_type": "code",
   "execution_count": 32,
   "id": "4b3851e8-1d33-4797-808e-55fd3f38d8b7",
   "metadata": {},
   "outputs": [
    {
     "name": "stdout",
     "output_type": "stream",
     "text": [
      "15\n"
     ]
    }
   ],
   "source": [
    "def levenstein(str_1, str_2):\n",
    "    n, m = len(str_1), len(str_2)\n",
    "    if n > m:\n",
    "        str_1, str_2 = str_2, str_1\n",
    "        n, m = m, n\n",
    "\n",
    "    current_row = range(n + 1)\n",
    "    for i in range(1, m + 1):\n",
    "        previous_row, current_row = current_row, [i] + [0] * n\n",
    "        for j in range(1, n + 1):\n",
    "            add, delete, change = previous_row[j] + 1, current_row[j - 1] + 1, previous_row[j - 1]\n",
    "            if str_1[j - 1] != str_2[i - 1]:\n",
    "                change += 1\n",
    "            current_row[j] = min(add, delete, change)\n",
    "    similarity = 0 if n == m and current_row[n] == 0 else current_row[n]\n",
    "    return similarity\n",
    "result = levenstein('Привет мир', 'Люблю колбасу, Привет мир')\n",
    "print(result)"
   ]
  },
  {
   "cell_type": "code",
   "execution_count": 33,
   "id": "3a0e70a2-a7d8-4653-87fb-bcabfbaa134b",
   "metadata": {},
   "outputs": [
    {
     "name": "stdout",
     "output_type": "stream",
     "text": [
      "20\n"
     ]
    }
   ],
   "source": [
    "def levenstein(str_1, str_2):\n",
    "    n, m = len(str_1), len(str_2)\n",
    "    if n > m:\n",
    "        str_1, str_2 = str_2, str_1\n",
    "        n, m = m, n\n",
    "\n",
    "    current_row = range(n + 1)\n",
    "    for i in range(1, m + 1):\n",
    "        previous_row, current_row = current_row, [i] + [0] * n\n",
    "        for j in range(1, n + 1):\n",
    "            add, delete, change = previous_row[j] + 1, current_row[j - 1] + 1, previous_row[j - 1]\n",
    "            if str_1[j - 1] != str_2[i - 1]:\n",
    "                change += 1\n",
    "            current_row[j] = min(add, delete, change)\n",
    "    similarity = 0 if n == m and current_row[n] == 0 else current_row[n]\n",
    "    return similarity\n",
    "result = levenstein('Привет мир', 'Люблю колбасу, Привет миру мир')\n",
    "print(result)"
   ]
  },
  {
   "cell_type": "markdown",
   "id": "d1845875-fe10-4e4f-bf09-31659d19f948",
   "metadata": {},
   "source": [
    "Библиотека fuzzywuzzy выводит процент сходства, а функция levenstein выводит кол-во различающихся знаков."
   ]
  },
  {
   "cell_type": "markdown",
   "id": "15a7aec1-b1ea-4ea4-8380-6e2dcb039427",
   "metadata": {},
   "source": [
    "# 3. Сравнение по токену"
   ]
  },
  {
   "cell_type": "markdown",
   "id": "ae84947d-7576-452b-9deb-5d8f5130c092",
   "metadata": {},
   "source": [
    "1) Token Sort Ratio"
   ]
  },
  {
   "cell_type": "code",
   "execution_count": 34,
   "id": "6501a57f-83cf-480b-84e9-3fcc59fb8408",
   "metadata": {},
   "outputs": [
    {
     "name": "stdout",
     "output_type": "stream",
     "text": [
      "100\n"
     ]
    }
   ],
   "source": [
    "a = fuzz.token_sort_ratio('Привет наш мир', 'мир наш Привет')\n",
    "print(a)"
   ]
  },
  {
   "cell_type": "code",
   "execution_count": 35,
   "id": "a5889dce-6b00-4c7c-b791-fe0dd5eece92",
   "metadata": {},
   "outputs": [
    {
     "name": "stdout",
     "output_type": "stream",
     "text": [
      "78\n"
     ]
    }
   ],
   "source": [
    "a = fuzz.token_sort_ratio('Привет наш мир', 'мир наш любимый Привет')\n",
    "print(a)"
   ]
  },
  {
   "cell_type": "code",
   "execution_count": 36,
   "id": "d7647b65-a550-4f53-8b6a-8ce409ed1667",
   "metadata": {},
   "outputs": [
    {
     "name": "stdout",
     "output_type": "stream",
     "text": [
      "100\n"
     ]
    }
   ],
   "source": [
    "a = fuzz.token_sort_ratio('1 2 Привет наш мир', '1 мир наш 2 ПриВЕт')\n",
    "print(a)"
   ]
  },
  {
   "cell_type": "markdown",
   "id": "fba46417-39a2-4d50-b204-196a95ffe8a4",
   "metadata": {},
   "source": [
    "2) Token Set Ratio"
   ]
  },
  {
   "cell_type": "code",
   "execution_count": 37,
   "id": "01a322ab-b4e6-4208-a37b-58cf6a56f843",
   "metadata": {},
   "outputs": [
    {
     "name": "stdout",
     "output_type": "stream",
     "text": [
      "100\n"
     ]
    }
   ],
   "source": [
    "a = fuzz.token_set_ratio('Привет наш мир', 'мир мир наш наш наш ПриВЕт')\n",
    "print(a)"
   ]
  },
  {
   "cell_type": "markdown",
   "id": "08dfdb20-72da-4ca8-a749-951f50bbb53d",
   "metadata": {},
   "source": [
    "# 4. Продвинутое обычное сравнение"
   ]
  },
  {
   "cell_type": "code",
   "execution_count": 38,
   "id": "6e0feb9a-d47d-4079-82d3-4d5194c0749b",
   "metadata": {},
   "outputs": [
    {
     "name": "stdout",
     "output_type": "stream",
     "text": [
      "100\n"
     ]
    }
   ],
   "source": [
    "a = fuzz.WRatio('Привет наш мир', '!ПриВЕт наш мир!')\n",
    "print(a)"
   ]
  },
  {
   "cell_type": "code",
   "execution_count": 39,
   "id": "5bae64a3-e85c-4985-8a5c-39128c6c19d1",
   "metadata": {},
   "outputs": [
    {
     "name": "stdout",
     "output_type": "stream",
     "text": [
      "97\n"
     ]
    }
   ],
   "source": [
    "a = fuzz.WRatio('Привет наш мир', '!ПриВЕт, наш мир!')\n",
    "print(a)"
   ]
  },
  {
   "cell_type": "markdown",
   "id": "bc232459-294b-4330-ade0-d069eabaeaef",
   "metadata": {},
   "source": [
    "# 5. Работа со списком"
   ]
  },
  {
   "cell_type": "code",
   "execution_count": 40,
   "id": "2446dcd2-6cd3-4466-b758-fc944ab3cf79",
   "metadata": {},
   "outputs": [
    {
     "name": "stdout",
     "output_type": "stream",
     "text": [
      "[('Саратов', 100), ('Самара', 62)]\n"
     ]
    }
   ],
   "source": [
    "city = [\"Москва\", \"Санкт-Петербург\", \"Саратов\", \"Краснодар\", \"Воронеж\", \"Омск\", \"Екатеринбург\", \"Орск\", \"Красногорск\", \"Красноярск\", \"Самара\"]\n",
    "a = process.extract(\"Саратов\", city, limit=2)\n",
    "# Параметр limit по умолчанию имеет значение 5\n",
    "print(a)"
   ]
  },
  {
   "cell_type": "code",
   "execution_count": 41,
   "id": "3009e08d-c9a6-412d-b46b-0f432a1700b7",
   "metadata": {},
   "outputs": [
    {
     "name": "stdout",
     "output_type": "stream",
     "text": [
      "('Красногорск', 90)\n"
     ]
    }
   ],
   "source": [
    "city = [\"Москва\", \"Санкт-Петербург\", \"Саратов\", \"Краснодар\", \"Воронеж\", \"Омск\", \"Екатеринбург\", \"Орск\", \"Красногорск\", \"Красноярск\", \"Самара\"]\n",
    "a = process.extractOne(\"Краногрск\", city)\n",
    "print(a)"
   ]
  },
  {
   "cell_type": "code",
   "execution_count": null,
   "id": "28291e8a-0fc5-4ba0-aaf4-537490c21323",
   "metadata": {},
   "outputs": [],
   "source": []
  }
 ],
 "metadata": {
  "kernelspec": {
   "display_name": "Python 3 (ipykernel)",
   "language": "python",
   "name": "python3"
  },
  "language_info": {
   "codemirror_mode": {
    "name": "ipython",
    "version": 3
   },
   "file_extension": ".py",
   "mimetype": "text/x-python",
   "name": "python",
   "nbconvert_exporter": "python",
   "pygments_lexer": "ipython3",
   "version": "3.11.5"
  }
 },
 "nbformat": 4,
 "nbformat_minor": 5
}
